{
 "cells": [
  {
   "cell_type": "markdown",
   "id": "geographic-rotation",
   "metadata": {},
   "source": [
    "# Panel-HighCharts - Add Series Dynamically\n",
    "\n",
    "This example illustrates how to add an extra series to an existing chart. This was motivated by [Feature Request #3](https://github.com/MarcSkovMadsen/panel-highcharts/issues/3) by [Otholan](https://github.com/othalan) and inspired by the [chart-addseries example](https://jsfiddle.net/gh/get/library/pure/highcharts/highcharts/tree/master/samples/highcharts/members/chart-addseries/)."
   ]
  },
  {
   "cell_type": "code",
   "execution_count": null,
   "id": "reserved-smith",
   "metadata": {},
   "outputs": [],
   "source": [
    "import panel as pn\n",
    "import panel_highcharts as ph\n",
    "\n",
    "ph.config.theme(\"auto\")\n",
    "pn.extension(\"highchart\", sizing_mode=\"stretch_width\")"
   ]
  },
  {
   "cell_type": "markdown",
   "id": "narrative-turkish",
   "metadata": {},
   "source": [
    "## Create Chart"
   ]
  },
  {
   "cell_type": "code",
   "execution_count": null,
   "id": "practical-amino",
   "metadata": {},
   "outputs": [],
   "source": [
    "CONFIGURATION = {\n",
    "    \"xAxis\": {\n",
    "        \"categories\": [\n",
    "            \"Jan\",\n",
    "            \"Feb\",\n",
    "            \"Mar\",\n",
    "            \"Apr\",\n",
    "            \"May\",\n",
    "            \"Jun\",\n",
    "            \"Jul\",\n",
    "            \"Aug\",\n",
    "            \"Sep\",\n",
    "            \"Oct\",\n",
    "            \"Nov\",\n",
    "            \"Dec\",\n",
    "        ]\n",
    "    },\n",
    "    \"series\": [\n",
    "        {\n",
    "            \"data\": [\n",
    "                29.9,\n",
    "                71.5,\n",
    "                106.4,\n",
    "                129.2,\n",
    "                144.0,\n",
    "                176.0,\n",
    "                135.6,\n",
    "                148.5,\n",
    "                216.4,\n",
    "                194.1,\n",
    "                95.6,\n",
    "                54.4,\n",
    "            ]\n",
    "        }\n",
    "    ],\n",
    "}"
   ]
  },
  {
   "cell_type": "code",
   "execution_count": null,
   "id": "informed-minister",
   "metadata": {},
   "outputs": [],
   "source": [
    "chart = ph.HighChart(object=CONFIGURATION, sizing_mode=\"stretch_both\", height=800)\n",
    "chart"
   ]
  },
  {
   "cell_type": "markdown",
   "id": "large-migration",
   "metadata": {},
   "source": [
    "## Add Series"
   ]
  },
  {
   "cell_type": "code",
   "execution_count": null,
   "id": "automatic-christopher",
   "metadata": {},
   "outputs": [],
   "source": [
    "OPTIONS = {\n",
    "    \"data\": [\n",
    "        194.1,\n",
    "        95.6,\n",
    "        54.4,\n",
    "        29.9,\n",
    "        71.5,\n",
    "        106.4,\n",
    "        129.2,\n",
    "        144.0,\n",
    "        176.0,\n",
    "        135.6,\n",
    "        148.5,\n",
    "        216.4,\n",
    "    ]\n",
    "}"
   ]
  },
  {
   "cell_type": "code",
   "execution_count": null,
   "id": "processed-wallet",
   "metadata": {},
   "outputs": [],
   "source": [
    "button = pn.widgets.Button(name=\"Add Series\", button_type=\"primary\")\n",
    "\n",
    "def add_series(_):\n",
    "    if button.clicks == 1:\n",
    "\n",
    "        chart.add_series(options=OPTIONS, redraw=True, animation=True)\n",
    "        button.disabled = True\n",
    "\n",
    "button.on_click(add_series)\n",
    "button"
   ]
  },
  {
   "cell_type": "markdown",
   "id": "curious-guide",
   "metadata": {},
   "source": [
    "## App"
   ]
  },
  {
   "cell_type": "code",
   "execution_count": null,
   "id": "vulnerable-request",
   "metadata": {},
   "outputs": [],
   "source": [
    "pn.template.FastListTemplate(\n",
    "    site=\"Panel-HighCharts\",\n",
    "    site_url=\"./\",\n",
    "    title=\"Add Series Dynamically\",\n",
    "    sidebar=[button],\n",
    "    main=[chart],\n",
    ").servable();"
   ]
  },
  {
   "cell_type": "markdown",
   "id": "assigned-authorization",
   "metadata": {},
   "source": [
    "You can serve the app via `panel serve AddSeriesDynamically.ipynb` and explore the app at http://localhost:5006/AddSeriesDynamically\n",
    "\n",
    "Add the `--autoreload` flag to get *hot reloading* when you save the notebook.\n",
    "\n",
    "![AddSeriesDynamically App](../assets/images/AddSeriesDynamically.gif)"
   ]
  }
 ],
 "metadata": {
  "kernelspec": {
   "display_name": "Python 3",
   "language": "python",
   "name": "python3"
  },
  "language_info": {
   "codemirror_mode": {
    "name": "ipython",
    "version": 3
   },
   "file_extension": ".py",
   "mimetype": "text/x-python",
   "name": "python",
   "nbconvert_exporter": "python",
   "pygments_lexer": "ipython3",
   "version": "3.8.4"
  }
 },
 "nbformat": 4,
 "nbformat_minor": 5
}
