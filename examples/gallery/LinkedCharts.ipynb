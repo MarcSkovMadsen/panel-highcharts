{
 "cells": [
  {
   "cell_type": "markdown",
   "id": "weighted-bacteria",
   "metadata": {},
   "source": [
    "![Panel HighCharts Logo](https://raw.githubusercontent.com/MarcSkovMadsen/panel-highcharts/main/assets/images/panel-highcharts-logo.png)\n",
    "\n",
    "# 📈 Linked Charts\n",
    "\n",
    "I was asked how to link charts. As a response I created this notebook. Lets import what we need to create a bar chart and a [clustered map](https://www.highcharts.com/demo/maps/marker-clusters)."
   ]
  },
  {
   "cell_type": "code",
   "execution_count": null,
   "id": "informative-spyware",
   "metadata": {},
   "outputs": [],
   "source": [
    "import pandas as pd\n",
    "import panel as pn\n",
    "import panel_highcharts as ph\n",
    "import param\n",
    "\n",
    "ph.config.js_files(\n",
    "    mapdata=[\"countries/dk/dk-all\"], highcharts_marker_clusters=True, highcharts_coloraxis=True\n",
    ")\n",
    "pn.config.js_files[\"proj4\"] = \"https://cdnjs.cloudflare.com/ajax/libs/proj4js/2.3.6/proj4.js\"\n",
    "ph.config.theme(\"auto\")\n",
    "pn.extension(\"highchart\", \"highmap\", \"tabulator\", sizing_mode=\"stretch_width\")"
   ]
  },
  {
   "cell_type": "code",
   "execution_count": null,
   "id": "pursuant-quantity",
   "metadata": {},
   "outputs": [],
   "source": [
    "LOGO = \"https://raw.githubusercontent.com/MarcSkovMadsen/panel-highcharts/main/assets/images/panel-highcharts-logo.png\"\n",
    "ACCENT_BASE_COLOR = \"#4099da\"\n",
    "SELECTED_COLOR = \"#2c6b98\""
   ]
  },
  {
   "cell_type": "code",
   "execution_count": null,
   "id": "spiritual-rings",
   "metadata": {},
   "outputs": [],
   "source": [
    "MAX_SAMPLES = 1000\n",
    "MAP_DATA_TRESHOLD = 1000"
   ]
  },
  {
   "cell_type": "markdown",
   "id": "uniform-found",
   "metadata": {},
   "source": [
    "## Source Data: Renewable Power Plants DK"
   ]
  },
  {
   "cell_type": "code",
   "execution_count": null,
   "id": "tough-helena",
   "metadata": {},
   "outputs": [],
   "source": [
    "DATA_URL = \"https://data.open-power-system-data.org/renewable_power_plants/2020-08-25/renewable_power_plants_DK.csv\""
   ]
  },
  {
   "cell_type": "code",
   "execution_count": null,
   "id": "later-shakespeare",
   "metadata": {},
   "outputs": [],
   "source": [
    "try:\n",
    "    DATA = pd.read_csv(\"renewable_power_plants_DK.csv\")\n",
    "except:\n",
    "    DATA = pd.read_csv(DATA_URL)\n",
    "    DATA.to_csv(\"renewable_power_plants_DK.csv\", index=False)\n",
    "DATA.index.name = \"index\"  # needed for Tabulator"
   ]
  },
  {
   "cell_type": "code",
   "execution_count": null,
   "id": "antique-thirty",
   "metadata": {},
   "outputs": [],
   "source": []
  },
  {
   "cell_type": "code",
   "execution_count": null,
   "id": "thirty-packaging",
   "metadata": {},
   "outputs": [],
   "source": [
    "tabulator = pn.widgets.Tabulator(\n",
    "    value=DATA,\n",
    "    theme=\"fast\",\n",
    "    page_size=10,\n",
    "    pagination=\"remote\",\n",
    "    min_height=350,\n",
    ")\n",
    "tabulator"
   ]
  },
  {
   "cell_type": "markdown",
   "id": "wired-trailer",
   "metadata": {},
   "source": [
    "If the output above is empty then rerun the cell to see the Tabulator table."
   ]
  },
  {
   "cell_type": "code",
   "execution_count": null,
   "id": "conscious-quest",
   "metadata": {},
   "outputs": [],
   "source": [
    "_, download_button = tabulator.download_menu(\n",
    "        text_kwargs={\"name\": \"Enter filename\", \"value\": \"source_data.csv\"},\n",
    "        button_kwargs={\"name\": \"Download CSV\", \"button_type\": \"primary\", \"margin\": (15, 10)},\n",
    "    )\n",
    "download_button"
   ]
  },
  {
   "cell_type": "markdown",
   "id": "furnished-climate",
   "metadata": {},
   "source": [
    "The *Download CSV* button does not work in the notebook. But it will work in the app."
   ]
  },
  {
   "cell_type": "code",
   "execution_count": null,
   "id": "retained-guarantee",
   "metadata": {},
   "outputs": [],
   "source": [
    "DIMENSIONS = [\n",
    "    \"energy_source_level_2\",\n",
    "    \"technology\",\n",
    "    \"data_source\",\n",
    "    \"nuts_2_region\",\n",
    "    \"nuts_3_region\",\n",
    "    \"manufacturer\",\n",
    "]\n",
    "DIMENSION=DIMENSIONS[0]\n",
    "MEASURE = \"electrical_capacity\""
   ]
  },
  {
   "cell_type": "markdown",
   "id": "announced-textbook",
   "metadata": {},
   "source": [
    "### Visualization"
   ]
  },
  {
   "cell_type": "markdown",
   "id": "diverse-camel",
   "metadata": {},
   "source": [
    "#### Bar Chart Component"
   ]
  },
  {
   "cell_type": "code",
   "execution_count": null,
   "id": "editorial-particle",
   "metadata": {},
   "outputs": [],
   "source": [
    "def to_grouped_chart_data(dimension=DIMENSION, measure=MEASURE, data=DATA):\n",
    "    return (\n",
    "        data[[dimension, measure]]\n",
    "        .groupby(dimension)\n",
    "        .sum()\n",
    "        .round(0)\n",
    "        .sort_values(measure, ascending=False)\n",
    "        .reset_index()\n",
    "    )\n",
    "grouped_chart_data=to_grouped_chart_data()\n",
    "grouped_chart_data"
   ]
  },
  {
   "cell_type": "code",
   "execution_count": null,
   "id": "ultimate-supervisor",
   "metadata": {},
   "outputs": [],
   "source": [
    "def to_grouped_chart_series_data(series, selected_index=-1):\n",
    "    return [\n",
    "        {\"y\": value, \"color\": SELECTED_COLOR if index == selected_index else ACCENT_BASE_COLOR}\n",
    "        for index, value in series.items()\n",
    "    ]\n",
    "to_grouped_chart_series_data(grouped_chart_data[MEASURE])"
   ]
  },
  {
   "cell_type": "code",
   "execution_count": null,
   "id": "supposed-equality",
   "metadata": {},
   "outputs": [],
   "source": [
    "def to_grouped_chart_config(data, dimension=DIMENSION, measure=MEASURE, selected_index=-1):\n",
    "    measure_data = to_grouped_chart_series_data(data[MEASURE], selected_index)\n",
    "\n",
    "    return {\n",
    "        \"chart\": {\"type\": \"bar\"},\n",
    "        \"title\": {\"text\": measure + \" grouped by \" + dimension},\n",
    "        \"subtitle\": {\n",
    "            \"text\": 'Source: <a href=\"https://data.open-power-system-data.org/renewable_power_plants/\">open-power-system-data.org</a>'\n",
    "        },\n",
    "        \"xAxis\": {\"categories\": list(data[dimension]), \"title\": {\"text\": dimension}},\n",
    "        \"yAxis\": {\"min\": 0, \"labels\": {\"overflow\": \"justify\"}},\n",
    "        \"tooltip\": {\"valueSuffix\": \" MW\"},\n",
    "        \"plotOptions\": {\n",
    "            \"bar\": {\"dataLabels\": {\"enabled\": True}},\n",
    "            \"series\": {\"cursor\": \"pointer\", \"point\": {\"events\": {\"click\": \"\"\"@click\"\"\"}}},\n",
    "        },\n",
    "        \"series\": [\n",
    "            {\n",
    "                \"name\": measure,\n",
    "                \"data\": measure_data,\n",
    "            }\n",
    "        ],\n",
    "    }\n",
    "grouped_chart_config=to_grouped_chart_config(grouped_chart_data)\n",
    "pn.pane.JSON(grouped_chart_config)"
   ]
  },
  {
   "cell_type": "code",
   "execution_count": null,
   "id": "patient-latex",
   "metadata": {},
   "outputs": [],
   "source": [
    "ph.HighChart(grouped_chart_config)"
   ]
  },
  {
   "cell_type": "markdown",
   "id": "smart-province",
   "metadata": {},
   "source": [
    "We will now turn this into a more general, reuseable component"
   ]
  },
  {
   "cell_type": "code",
   "execution_count": null,
   "id": "humanitarian-spirituality",
   "metadata": {},
   "outputs": [],
   "source": [
    "class GroupByDimensionChartWithSelection(param.Parameterized):\n",
    "    dimension = param.ObjectSelector(DIMENSIONS[0], objects=DIMENSIONS)\n",
    "    selected_value = param.String()\n",
    "    selected_index = param.Integer()\n",
    "    data = param.DataFrame()\n",
    "    config = param.Dict()\n",
    "    chart = param.ClassSelector(class_=ph.HighChart)\n",
    "    view = param.Parameter()\n",
    "\n",
    "    def __init__(self, **params):\n",
    "        if \"chart\" not in params:\n",
    "            params[\"chart\"] = ph.HighChart(sizing_mode=\"stretch_both\", margin=(25, 10))\n",
    "\n",
    "        super().__init__(**params)\n",
    "\n",
    "        self._update_chart()\n",
    "\n",
    "        self.view = pn.Column(\n",
    "            self.param.dimension, self.chart, sizing_mode=\"stretch_both\"\n",
    "        )\n",
    "\n",
    "    @param.depends(\"dimension\", watch=True)\n",
    "    def _update_chart(self):\n",
    "        self.data = to_grouped_chart_data(self.dimension)\n",
    "        self.selected_index = -1\n",
    "        self.selected_value = \"\"\n",
    "        self.config = to_grouped_chart_config(\n",
    "            self.data, self.dimension, selected_index=self.selected_index\n",
    "        )\n",
    "        self.chart.object = self.config\n",
    "\n",
    "    @param.depends(\"chart.event\", watch=True)\n",
    "    def _color_selection(self):\n",
    "        index = self.chart.event[\"point\"][\"index\"]\n",
    "        if self.selected_index == index:\n",
    "            self.selected_index = -1\n",
    "            self.selected_value = \"\"\n",
    "        else:\n",
    "            self.selected_index = index\n",
    "            self.selected_value = self.data[self.dimension][index]\n",
    "\n",
    "        config = {\n",
    "            \"series\": [\n",
    "                {\n",
    "                    \"data\": to_grouped_chart_series_data(self.data[\"electrical_capacity\"], self.selected_index),\n",
    "                }\n",
    "            ]\n",
    "        }\n",
    "        self.chart.object_update = config"
   ]
  },
  {
   "cell_type": "code",
   "execution_count": null,
   "id": "several-dynamics",
   "metadata": {},
   "outputs": [],
   "source": [
    "bar_chart_component = GroupByDimensionChartWithSelection()\n",
    "bar_chart_component.view"
   ]
  },
  {
   "cell_type": "markdown",
   "id": "strong-artwork",
   "metadata": {},
   "source": [
    "Try changing the `dimension` or clicking a bar"
   ]
  },
  {
   "cell_type": "markdown",
   "id": "inner-duncan",
   "metadata": {},
   "source": [
    "## Map Chart"
   ]
  },
  {
   "cell_type": "code",
   "execution_count": null,
   "id": "subject-beast",
   "metadata": {},
   "outputs": [],
   "source": [
    "def to_map_data(dimension=DIMENSIONS[0], selected_value=\"\"):\n",
    "    if selected_value:\n",
    "        map_filter = DATA[dimension] == selected_value\n",
    "        data = DATA[map_filter]\n",
    "    else:\n",
    "        data = DATA\n",
    "    data = data[[\"address\", \"municipality\", \"lat\", \"lon\", \"manufacturer\"]].copy()\n",
    "    data[\"name\"] = (\n",
    "        data[\"address\"].astype(str) + \", \" + data[\"municipality\"]\n",
    "    )  # + \", \" + data.index.astype(str)\n",
    "    data = data.fillna(\"NA\")\n",
    "    samples = min(len(data), MAX_SAMPLES)\n",
    "    records = (\n",
    "        data[[\"name\", \"lat\", \"lon\", \"manufacturer\"]]\n",
    "        .sample(samples)\n",
    "        .dropna(subset=[\"lat\", \"lon\"])\n",
    "        .to_dict(\"records\")\n",
    "    )\n",
    "    return records"
   ]
  },
  {
   "cell_type": "code",
   "execution_count": null,
   "id": "enclosed-namibia",
   "metadata": {},
   "outputs": [],
   "source": [
    "to_map_data()[0:5]"
   ]
  },
  {
   "cell_type": "code",
   "execution_count": null,
   "id": "hearing-publication",
   "metadata": {},
   "outputs": [],
   "source": [
    "def get_map_chart_config(dimension=DIMENSION, selected_value=\"\"):\n",
    "    series_data = to_map_data(dimension=dimension, selected_value=selected_value)\n",
    "    return {\n",
    "        \"chart\": {\"map\": \"countries/dk/dk-all\"},\n",
    "        \"title\": {\n",
    "            \"text\": \"Renewable Power Plants DK\",\n",
    "        },\n",
    "        \"subtitle\": {\n",
    "            \"text\": f\"Sample of {len(series_data)} plants only\",\n",
    "        },\n",
    "        \"mapNavigation\": {\"enabled\": True},\n",
    "        \"tooltip\": {\n",
    "            \"headerFormat\": \"\",\n",
    "            \"pointFormat\": \"<b>{point.name}</b><br><b>{point.manufacturer}</b><br>Lat: {point.lat:.2f}, Lon: {point.lon:.2f}\",\n",
    "        },\n",
    "        \"colorAxis\": {\"min\": 0, \"max\": 1000},\n",
    "        \"plotOptions\": {\n",
    "            \"series\": {\n",
    "                \"turboThreshold\": MAP_DATA_TRESHOLD,\n",
    "            },\n",
    "            \"mappoint\": {\n",
    "                \"cluster\": {\n",
    "                    \"enabled\": True,\n",
    "                    \"allowOverlap\": False,\n",
    "                    \"animation\": {\"duration\": 450},\n",
    "                    \"layoutAlgorithm\": {\"type\": \"grid\", \"gridSize\": 70},\n",
    "                    \"zones\": [\n",
    "                        {\"from\": 1, \"to\": 4, \"marker\": {\"radius\": 13}},\n",
    "                        {\"from\": 5, \"to\": 9, \"marker\": {\"radius\": 15}},\n",
    "                        {\"from\": 10, \"to\": 15, \"marker\": {\"radius\": 17}},\n",
    "                        {\"from\": 16, \"to\": 20, \"marker\": {\"radius\": 19}},\n",
    "                        {\"from\": 21, \"to\": 100, \"marker\": {\"radius\": 21}},\n",
    "                    ],\n",
    "                }\n",
    "            },\n",
    "        },\n",
    "        \"xAxis\": {\n",
    "            \"minRange\": 1,\n",
    "        },\n",
    "        \"yAxis\": {\n",
    "            \"minRange\": 1,\n",
    "        },\n",
    "        \"series\": [\n",
    "            {\n",
    "                \"name\": \"Basemap\",\n",
    "                \"borderColor\": \"#A0A0A0\",\n",
    "                \"backgroundColor\": \"yellow\",\n",
    "                \"nullColor\": \"rgba(177, 244, 177, 0.5)\",\n",
    "                \"showInLegend\": False,\n",
    "            },\n",
    "            {\n",
    "                \"type\": \"mappoint\",\n",
    "                \"enableMouseTracking\": True,\n",
    "                \"colorKey\": \"clusterPointsAmount\",\n",
    "                \"name\": \"Power Plants\",\n",
    "                \"data\": series_data,\n",
    "            },\n",
    "        ],\n",
    "    }"
   ]
  },
  {
   "cell_type": "code",
   "execution_count": null,
   "id": "outdoor-english",
   "metadata": {},
   "outputs": [],
   "source": [
    "map_chart_config = get_map_chart_config()\n",
    "map_chart = ph.HighMap(map_chart_config, sizing_mode=\"stretch_both\", margin=(25, 10))\n",
    "map_chart"
   ]
  },
  {
   "cell_type": "markdown",
   "id": "polished-franchise",
   "metadata": {},
   "source": [
    "## Link the Charts\n",
    "\n",
    "We will now *bind* the `map_chart` to the selection of the `bar_chart`."
   ]
  },
  {
   "cell_type": "code",
   "execution_count": null,
   "id": "innocent-nation",
   "metadata": {},
   "outputs": [],
   "source": [
    "def update_map_chart(dimension=DIMENSIONS[0], selected_value=-1):\n",
    "    map_chart.object = get_map_chart_config(dimension=dimension, selected_value=selected_value)"
   ]
  },
  {
   "cell_type": "code",
   "execution_count": null,
   "id": "legitimate-associate",
   "metadata": {},
   "outputs": [],
   "source": [
    "pn.bind(\n",
    "    update_map_chart,\n",
    "    dimension=bar_chart_component.param.dimension,\n",
    "    selected_value=bar_chart_component.param.selected_value,\n",
    "    watch=True,\n",
    ");"
   ]
  },
  {
   "cell_type": "markdown",
   "id": "disciplinary-maintenance",
   "metadata": {},
   "source": [
    "### Create our Two Pages"
   ]
  },
  {
   "cell_type": "code",
   "execution_count": null,
   "id": "executed-castle",
   "metadata": {},
   "outputs": [],
   "source": [
    "vizualization_text = f\"\"\"## Renewable Power Plants DK\n",
    "\n",
    "This application demonstrates how to create *parent-child* relations using\n",
    "[Panel-HighCharts](https://github.com/marcskovmadsen/panel-highcharts) by reacting to *events*.\n",
    "\n",
    "\n",
    "For performance reasons the map shows a sample of {MAX_SAMPLES} points only. In total\n",
    "there are {len(DATA)} power plants.\n",
    "\"\"\"\n",
    "\n",
    "visualization_panel = pn.Column(\n",
    "    pn.pane.Markdown(vizualization_text, height=120),\n",
    "    pn.layout.Divider(),\n",
    "    pn.Row(\n",
    "        bar_chart_component.view,\n",
    "        pn.Column(pn.layout.HSpacer(height=51), map_chart, sizing_mode=\"stretch_both\"),\n",
    "        sizing_mode=\"stretch_both\",\n",
    "    ),\n",
    "    name=\"VISUALIZATION\",\n",
    ")\n",
    "visualization_panel"
   ]
  },
  {
   "cell_type": "code",
   "execution_count": null,
   "id": "pacific-leeds",
   "metadata": {},
   "outputs": [],
   "source": [
    "source_data_panel = pn.Column(\n",
    "    tabulator,\n",
    "    download_button,\n",
    "    \"\"\"[The data](https://data.open-power-system-data.org/renewable_power_plants/) is from\n",
    "[open-power-system-data.org](https://data.open-power-system-data.org/renewable_power_plants/).\"\"\",\n",
    "    name=\"SOURCE DATA\",\n",
    ")\n",
    "source_data_panel"
   ]
  },
  {
   "cell_type": "markdown",
   "id": "stylish-estimate",
   "metadata": {},
   "source": [
    "## App\n",
    "\n",
    "Lets wrap it into a app nice template"
   ]
  },
  {
   "cell_type": "code",
   "execution_count": null,
   "id": "amber-texture",
   "metadata": {},
   "outputs": [],
   "source": [
    "pn.template.FastListTemplate(\n",
    "    site=\"Awesome Panel\", site_url=\"./\",\n",
    "    logo=LOGO,\n",
    "    title=\"Renewable Power Plants DK\",\n",
    "    main=[pn.Tabs(visualization_panel, source_data_panel, dynamic=True)],\n",
    "    accent_base_color=ACCENT_BASE_COLOR,\n",
    "    header_background=ACCENT_BASE_COLOR,\n",
    ").servable();"
   ]
  },
  {
   "cell_type": "markdown",
   "id": "protected-following",
   "metadata": {},
   "source": [
    "You can now serve the app via `panel serve LinkedCharts.ipynb --autoreload` and open the app at [http://localhost:5006/LinkedCharts](http://localhost:5006/LinkedCharts)."
   ]
  },
  {
   "cell_type": "markdown",
   "id": "billion-mustang",
   "metadata": {},
   "source": [
    "![LinkedCharts](../assets/images/LinkedCharts.gif)"
   ]
  }
 ],
 "metadata": {
  "kernelspec": {
   "display_name": "Python 3",
   "language": "python",
   "name": "python3"
  },
  "language_info": {
   "codemirror_mode": {
    "name": "ipython",
    "version": 3
   },
   "file_extension": ".py",
   "mimetype": "text/x-python",
   "name": "python",
   "nbconvert_exporter": "python",
   "pygments_lexer": "ipython3",
   "version": "3.8.4"
  }
 },
 "nbformat": 4,
 "nbformat_minor": 5
}
