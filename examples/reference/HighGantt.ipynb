{
 "cells": [
  {
   "cell_type": "markdown",
   "id": "outer-resident",
   "metadata": {},
   "source": [
    "![Panel HighCharts Logo](https://raw.githubusercontent.com/MarcSkovMadsen/panel-highcharts/main/assets/images/panel-highcharts-logo.png)\n",
    "\n",
    "# 📈 Panel HighGantt Reference Guide\n",
    "\n",
    "The [Panel](https://panel.holoviz.org) `HighGantt` pane allows you to use the powerful [HighCharts](https://www.highcharts.com/) [Gantt Chart](https://www.highcharts.com/blog/products/gantt/) from within the comfort of Python 🐍 and Panel ❤️.\n",
    "\n",
    "## License\n",
    "\n",
    "The `panel-highcharts` python package and repository is open source and free to use (MIT License), however the **Highcharts js library requires a license for commercial use**. For more info see the Highcharts license [FAQs](https://shop.highsoft.com/faq).\n",
    "\n",
    "## Parameters:\n",
    "\n",
    "For layout and styling related parameters see the [Panel Customization Guide](https://panel.holoviz.org/user_guide/Customization.html).\n",
    "\n",
    "* **``object``** (dict): The initial user `configuration` of the `chart`.\n",
    "* **``object_update``** (dict) Incremental update to the existing `configuration` of the `chart`. \n",
    "* **``event``** (dict): Events like `click` and `mouseOver` if subscribed to using the `@` terminology.\n",
    "\n",
    "## Methods\n",
    "\n",
    "* **``add_series``**: The method adds a new series to the chart. Takes the `options`, `redraw` and `animation` arguments.\n",
    "\n",
    "___"
   ]
  },
  {
   "cell_type": "markdown",
   "id": "palestinian-houston",
   "metadata": {},
   "source": [
    "# Usage\n",
    "\n",
    "## Imports\n",
    "\n",
    "You must import something from panel_highcharts before you run `pn.extension('highgantt')`"
   ]
  },
  {
   "cell_type": "code",
   "execution_count": null,
   "id": "successful-wholesale",
   "metadata": {},
   "outputs": [],
   "source": [
    "import panel_highcharts as ph\n",
    "\n",
    "ph.config.theme(\"auto\")"
   ]
  },
  {
   "cell_type": "markdown",
   "id": "settled-steel",
   "metadata": {},
   "source": [
    "Additionally you can specify extra Highcharts `js_files` to include or exclude. See the full list at [https://code.highcharts.com](https://code.highcharts.com)"
   ]
  },
  {
   "cell_type": "code",
   "execution_count": null,
   "id": "circular-water",
   "metadata": {},
   "outputs": [],
   "source": [
    "# ph.config.js_files(highcharts_exporting=False, highcharts_export_data=False, ...)"
   ]
  },
  {
   "cell_type": "code",
   "execution_count": null,
   "id": "violent-worcester",
   "metadata": {},
   "outputs": [],
   "source": [
    "from datetime import datetime as dt\n",
    "\n",
    "import panel as pn\n",
    "pn.extension('highgantt')"
   ]
  },
  {
   "cell_type": "markdown",
   "id": "unexpected-webcam",
   "metadata": {},
   "source": [
    "## Configuration\n",
    "\n",
    "The `HighChart` pane is configured by providing a simple `dict` to the `object` parameter. For examples see the HighCharts [demos](https://www.highcharts.com/demo)."
   ]
  },
  {
   "cell_type": "code",
   "execution_count": null,
   "id": "sitting-shanghai",
   "metadata": {
    "tags": []
   },
   "outputs": [],
   "source": [
    "# Source: https://jsfiddle.net/bxd210w4/26/\n",
    "configuration = {\n",
    "    \"title\": {\"text\": \"Simple Gantt Chart\"},\n",
    "    \"series\": [\n",
    "        {\n",
    "            \"name\": \"Project 1\",\n",
    "            \"data\": [\n",
    "                {\n",
    "                    \"id\": \"s\",\n",
    "                    \"name\": \"Start prototype\",\n",
    "                    \"start\": \"2022/10/18\",\n",
    "                    \"end\": \"2022/10/20\",\n",
    "                },\n",
    "                {\n",
    "                    \"id\": \"b\",\n",
    "                    \"name\": \"Develop\",\n",
    "                    \"start\": \"2022/10/20\",\n",
    "                    \"end\": \"2022/10/25\",\n",
    "                    \"dependency\": \"s\",\n",
    "                },\n",
    "                {\n",
    "                    \"id\": \"a\",\n",
    "                    \"name\": \"Run acceptance tests\",\n",
    "                    \"start\": \"2022/10/23\",\n",
    "                    \"end\": \"2022/10/26\",\n",
    "                },\n",
    "                {\n",
    "                    \"name\": \"Test prototype\",\n",
    "                    \"start\": \"2022/10/27\",\n",
    "                    \"end\": \"2022/10/29\",\n",
    "                    \"dependency\": [\"a\", \"b\"],\n",
    "                },\n",
    "            ],\n",
    "        }\n",
    "    ],\n",
    "}"
   ]
  },
  {
   "cell_type": "markdown",
   "id": "foster-hypothetical",
   "metadata": {},
   "source": [
    "We need to transfer the datetime values in miliseconds and not as strings!"
   ]
  },
  {
   "cell_type": "code",
   "execution_count": null,
   "id": "going-baseball",
   "metadata": {},
   "outputs": [],
   "source": [
    "EPOCH = dt.utcfromtimestamp(0)\n",
    "\n",
    "def convert_to_miliseconds(value):\n",
    "    s_dt = dt.strptime(value, \"%Y/%m/%d\")\n",
    "    return int((s_dt - EPOCH).total_seconds() * 1000)\n",
    "\n",
    "\n",
    "for point in configuration[\"series\"][0][\"data\"]: # type: ignore\n",
    "    point[\"start\"] = convert_to_miliseconds(point[\"start\"])\n",
    "    point[\"end\"] = convert_to_miliseconds(point[\"end\"])"
   ]
  },
  {
   "cell_type": "code",
   "execution_count": null,
   "id": "acute-concentrate",
   "metadata": {},
   "outputs": [],
   "source": [
    "chart = ph.HighGantt(object=configuration, sizing_mode=\"stretch_width\")\n",
    "chart"
   ]
  },
  {
   "cell_type": "markdown",
   "id": "vietnamese-blowing",
   "metadata": {},
   "source": [
    "## Layout"
   ]
  },
  {
   "cell_type": "code",
   "execution_count": null,
   "id": "general-copyright",
   "metadata": {},
   "outputs": [],
   "source": [
    "settings = pn.WidgetBox(\n",
    "    pn.Param(\n",
    "        chart,\n",
    "        parameters=[\"height\", \"width\", \"sizing_mode\", \"margin\", \"object\", \"object_update\", \"event\", ],\n",
    "                widgets={\"object\": pn.widgets.LiteralInput, \"object_update\": pn.widgets.LiteralInput, \"event\": pn.widgets.StaticText},\n",
    "        sizing_mode=\"fixed\", show_name=False, width=250,\n",
    "    )\n",
    ")\n",
    "pn.Row(settings, chart, sizing_mode=\"stretch_width\", height=550)"
   ]
  },
  {
   "cell_type": "markdown",
   "id": "effective-trinidad",
   "metadata": {},
   "source": [
    "Try changing the `sizing_mode` to `fixed` and the `width` to `500`."
   ]
  },
  {
   "cell_type": "markdown",
   "id": "indie-sense",
   "metadata": {},
   "source": [
    "## Updates\n",
    "\n",
    "You can *update* the chart by providing a partial `configuration` to the `object_update` parameter."
   ]
  },
  {
   "cell_type": "code",
   "execution_count": null,
   "id": "automated-runner",
   "metadata": {
    "tags": []
   },
   "outputs": [],
   "source": [
    "object_update = {\n",
    "    \"title\": {\"text\": \"Panel HighGantt Plan\"},\n",
    "}\n",
    "chart.object_update=object_update"
   ]
  },
  {
   "cell_type": "markdown",
   "id": "environmental-montana",
   "metadata": {},
   "source": [
    "Verify that the `title` and `series` was updated in the chart above."
   ]
  },
  {
   "cell_type": "markdown",
   "id": "hungarian-cache",
   "metadata": {},
   "source": [
    "## Events\n",
    "\n",
    "You can subscribe to chart events using an the `@` notation as shown below. If you add a string like `@name`, then the key-value pair `'channel': 'name'` will be added to the `event` dictionary."
   ]
  },
  {
   "cell_type": "code",
   "execution_count": null,
   "id": "light-suicide",
   "metadata": {},
   "outputs": [],
   "source": [
    "event_update = {\n",
    "    \"series\": [\n",
    "        {\n",
    "            \"allowPointSelect\": \"true\",\n",
    "            \"point\": {\n",
    "                \"events\": {\n",
    "                    \"click\": \"@click;}\",\n",
    "                    \"mouseOver\": \"@mouseOverFun\",\n",
    "                    \"select\": \"@select\",\n",
    "                    \"unselect\": \"@unselect\",\n",
    "                }\n",
    "            },\n",
    "            \"events\": {\n",
    "                \"mouseOut\": \"@mouseOutFun\",\n",
    "            }\n",
    "        }\n",
    "    ]\n",
    "}\n",
    "chart.object_update=event_update"
   ]
  },
  {
   "cell_type": "markdown",
   "id": "limiting-aging",
   "metadata": {},
   "source": [
    "Verify that you can trigger the `click`, `mouseOver`, `select`, `unselect` and `mouseOut` events in the chart above and that the relevant `channel` value is used."
   ]
  },
  {
   "cell_type": "markdown",
   "id": "impaired-temple",
   "metadata": {},
   "source": [
    "## Javascript\n",
    "\n",
    "You can use Javascript in the configuration via the `function() {...}` notation."
   ]
  },
  {
   "cell_type": "code",
   "execution_count": null,
   "id": "electrical-naples",
   "metadata": {},
   "outputs": [],
   "source": [
    "# Todo: Insert Example. For now see the HighChart, HighStock or HighMap reference notebooks.\n",
    "js_update = {}\n",
    "chart.object_update=js_update"
   ]
  },
  {
   "cell_type": "markdown",
   "id": "earlier-round",
   "metadata": {},
   "source": [
    "# App\n",
    "\n",
    "Finally we can wrap it up into a nice app template."
   ]
  },
  {
   "cell_type": "code",
   "execution_count": null,
   "id": "reliable-heating",
   "metadata": {},
   "outputs": [],
   "source": [
    "# We reset the chart\n",
    "configuration[\"series\"][0]={**configuration[\"series\"][0], **event_update[\"series\"][0]}\n",
    "chart.object = configuration"
   ]
  },
  {
   "cell_type": "code",
   "execution_count": null,
   "id": "funny-intensity",
   "metadata": {},
   "outputs": [],
   "source": [
    "app = pn.template.FastListTemplate(\n",
    "    site=\"Panel Highcharts\", site_url=\"./\",\n",
    "    title=\"HighGantt Reference Example\", \n",
    "    sidebar=[settings], \n",
    "    main=[chart]\n",
    ").servable()"
   ]
  },
  {
   "cell_type": "markdown",
   "id": "lyric-program",
   "metadata": {},
   "source": [
    "You can serve with `panel serve HighGantt.ipynb` and explore the app at http://localhost:5006/HighGantt.\n",
    "\n",
    "Add the `--autoreload` flag to get *hot reloading* when you save the notebook.\n",
    "\n",
    "![HighGantt Reference Guide](https://raw.githubusercontent.com/MarcSkovMadsen/panel-highcharts/main/assets/images/HighGanttApp.gif)"
   ]
  }
 ],
 "metadata": {
  "kernelspec": {
   "display_name": "Python 3",
   "language": "python",
   "name": "python3"
  },
  "language_info": {
   "codemirror_mode": {
    "name": "ipython",
    "version": 3
   },
   "file_extension": ".py",
   "mimetype": "text/x-python",
   "name": "python",
   "nbconvert_exporter": "python",
   "pygments_lexer": "ipython3",
   "version": "3.8.4"
  },
  "toc-autonumbering": true,
  "toc-showcode": true,
  "toc-showmarkdowntxt": true,
  "toc-showtags": false
 },
 "nbformat": 4,
 "nbformat_minor": 5
}
